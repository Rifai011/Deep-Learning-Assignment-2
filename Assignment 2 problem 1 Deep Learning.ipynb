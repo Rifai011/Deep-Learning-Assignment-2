{
 "cells": [
  {
   "cell_type": "code",
   "execution_count": 1,
   "id": "80ae586e-f1df-405e-9e58-8bea043f6d33",
   "metadata": {},
   "outputs": [
    {
     "name": "stderr",
     "output_type": "stream",
     "text": [
      "Processing train images: 100%|███████████████████████████████████████████████████| 30000/30000 [06:55<00:00, 72.23it/s]\n",
      "Processing test images: 100%|████████████████████████████████████████████████████| 10000/10000 [02:23<00:00, 69.60it/s]\n",
      "Processing val images: 100%|█████████████████████████████████████████████████████| 10000/10000 [02:22<00:00, 70.13it/s]"
     ]
    },
    {
     "name": "stdout",
     "output_type": "stream",
     "text": [
      "Dataset processing complete!\n"
     ]
    },
    {
     "name": "stderr",
     "output_type": "stream",
     "text": [
      "\n"
     ]
    }
   ],
   "source": [
    "import os\n",
    "import random\n",
    "import cv2\n",
    "from tqdm import tqdm\n",
    "\n",
    "# Paths from and to the directories\n",
    "data_path = r\"C:\\Users\\Rifai Rahman\\Desktop\\Deep Learning\\Assignment 2 question\\archive 2\\tiny-imagenet-200\\train\"  \n",
    "output_path = r\"C:\\Users\\Rifai Rahman\\Desktop\\Deep Learning\\Assignment 2 question\\archive 2\\Processed dataset (upscaling) for assignment\"\n",
    "\n",
    "# Split sizes\n",
    "train_size = 30000\n",
    "test_size = 10000\n",
    "val_size = 10000\n",
    "total_size = train_size + test_size + val_size\n",
    "\n",
    "# Ensure output directories exist\n",
    "split_dirs = [\"train\", \"test\", \"val\"]\n",
    "for split in split_dirs:\n",
    "    os.makedirs(os.path.join(output_path, split), exist_ok=True)\n",
    "\n",
    "# Select 100 classes\n",
    "all_classes = sorted(os.listdir(data_path))  \n",
    "selected_classes = random.sample(all_classes, 100)  \n",
    "\n",
    "# Collect images from each class\n",
    "image_paths = []\n",
    "for cls in selected_classes:\n",
    "    cls_path = os.path.join(data_path, cls, \"images\")\n",
    "    images = sorted(os.listdir(cls_path))[:500]  \n",
    "    image_paths.extend([(cls, os.path.join(cls_path, img)) for img in images])\n",
    "\n",
    "# Shuffle dataset before splitting\n",
    "random.shuffle(image_paths)\n",
    "\n",
    "# Split dataset\n",
    "train_images = image_paths[:train_size]\n",
    "test_images = image_paths[train_size:train_size + test_size]\n",
    "val_images = image_paths[train_size + test_size:total_size]\n",
    "\n",
    "splits = {\"train\": train_images, \"test\": test_images, \"val\": val_images}\n",
    "\n",
    "# Function to resize images directly to 256x256\n",
    "def process_image(img_path, output_folder):\n",
    "    img = cv2.imread(img_path)\n",
    "    if img is None:\n",
    "        return\n",
    "    \n",
    "    # Directly resize 64x64 to 256x256 using cubic interpolation for better upscaling\n",
    "    img_resized = cv2.resize(img, (256, 256), interpolation=cv2.INTER_CUBIC)\n",
    "\n",
    "    # Save processed image\n",
    "    output_img_path = os.path.join(output_folder, os.path.basename(img_path))\n",
    "    cv2.imwrite(output_img_path, img_resized)\n",
    "\n",
    "# Process and save images\n",
    "for split, images in splits.items():\n",
    "    split_dir = os.path.join(output_path, split)\n",
    "    os.makedirs(split_dir, exist_ok=True)\n",
    "\n",
    "    for cls, img_path in tqdm(images, desc=f\"Processing {split} images\"):\n",
    "        cls_dir = os.path.join(split_dir, cls)\n",
    "        os.makedirs(cls_dir, exist_ok=True)\n",
    "        process_image(img_path, cls_dir)\n",
    "\n",
    "print(\"Dataset processing complete!\")\n"
   ]
  },
  {
   "cell_type": "code",
   "execution_count": null,
   "id": "a39ffe67-4ff0-4d8d-b3b4-699af2ee1ca1",
   "metadata": {},
   "outputs": [],
   "source": []
  }
 ],
 "metadata": {
  "kernelspec": {
   "display_name": "Python 3 (ipykernel)",
   "language": "python",
   "name": "python3"
  },
  "language_info": {
   "codemirror_mode": {
    "name": "ipython",
    "version": 3
   },
   "file_extension": ".py",
   "mimetype": "text/x-python",
   "name": "python",
   "nbconvert_exporter": "python",
   "pygments_lexer": "ipython3",
   "version": "3.12.4"
  }
 },
 "nbformat": 4,
 "nbformat_minor": 5
}
